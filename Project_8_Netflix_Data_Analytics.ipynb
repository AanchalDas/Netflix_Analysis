{
  "cells": [
    {
      "cell_type": "markdown",
      "metadata": {
        "id": "G7fnLDkL0AR8"
      },
      "source": [
        "## Netflix Dataset"
      ]
    },
    {
      "cell_type": "markdown",
      "metadata": {
        "id": "V2JbQ1ae0ASA"
      },
      "source": [
        "### Big-Data Analysis with Python"
      ]
    },
    {
      "cell_type": "markdown",
      "metadata": {
        "id": "cV0PZ41F0ASB"
      },
      "source": [
        "![1.png](attachment:1.png)"
      ]
    },
    {
      "cell_type": "markdown",
      "metadata": {
        "id": "hB2PsRsa0ASC"
      },
      "source": [
        "This Netflix Dataset has information about the TV Shows and Movies available on Netflix till 2021.\n"
      ]
    },
    {
      "cell_type": "code",
      "execution_count": null,
      "metadata": {
        "id": "oE6I5X9V0ASD"
      },
      "outputs": [],
      "source": [
        "# Importing the dataset\n",
        "import pandas as pd\n",
        "import numpy as np\n",
        "import matplotlib.pyplot as plt\n",
        "import seaborn as sns\n",
        "file_path = \"/content/8. Netflix Dataset.csv\"\n",
        "data = pd.read_csv(file_path)\n"
      ]
    },
    {
      "cell_type": "code",
      "source": [
        "from google.colab import drive\n",
        "drive.mount('/content/drive')"
      ],
      "metadata": {
        "colab": {
          "base_uri": "https://localhost:8080/",
          "height": 321
        },
        "id": "dQ67yUL5_UwP",
        "outputId": "1e84f6f9-3f79-4365-b342-b17f69d95c87"
      },
      "execution_count": null,
      "outputs": [
        {
          "output_type": "error",
          "ename": "MessageError",
          "evalue": "Error: credential propagation was unsuccessful",
          "traceback": [
            "\u001b[0;31m---------------------------------------------------------------------------\u001b[0m",
            "\u001b[0;31mMessageError\u001b[0m                              Traceback (most recent call last)",
            "\u001b[0;32m/tmp/ipython-input-7-1408506528.py\u001b[0m in \u001b[0;36m<cell line: 0>\u001b[0;34m()\u001b[0m\n\u001b[1;32m      1\u001b[0m \u001b[0;32mfrom\u001b[0m \u001b[0mgoogle\u001b[0m\u001b[0;34m.\u001b[0m\u001b[0mcolab\u001b[0m \u001b[0;32mimport\u001b[0m \u001b[0mdrive\u001b[0m\u001b[0;34m\u001b[0m\u001b[0;34m\u001b[0m\u001b[0m\n\u001b[0;32m----> 2\u001b[0;31m \u001b[0mdrive\u001b[0m\u001b[0;34m.\u001b[0m\u001b[0mmount\u001b[0m\u001b[0;34m(\u001b[0m\u001b[0;34m'/content/drive'\u001b[0m\u001b[0;34m)\u001b[0m\u001b[0;34m\u001b[0m\u001b[0;34m\u001b[0m\u001b[0m\n\u001b[0m",
            "\u001b[0;32m/usr/local/lib/python3.11/dist-packages/google/colab/drive.py\u001b[0m in \u001b[0;36mmount\u001b[0;34m(mountpoint, force_remount, timeout_ms, readonly)\u001b[0m\n\u001b[1;32m     98\u001b[0m \u001b[0;32mdef\u001b[0m \u001b[0mmount\u001b[0m\u001b[0;34m(\u001b[0m\u001b[0mmountpoint\u001b[0m\u001b[0;34m,\u001b[0m \u001b[0mforce_remount\u001b[0m\u001b[0;34m=\u001b[0m\u001b[0;32mFalse\u001b[0m\u001b[0;34m,\u001b[0m \u001b[0mtimeout_ms\u001b[0m\u001b[0;34m=\u001b[0m\u001b[0;36m120000\u001b[0m\u001b[0;34m,\u001b[0m \u001b[0mreadonly\u001b[0m\u001b[0;34m=\u001b[0m\u001b[0;32mFalse\u001b[0m\u001b[0;34m)\u001b[0m\u001b[0;34m:\u001b[0m\u001b[0;34m\u001b[0m\u001b[0;34m\u001b[0m\u001b[0m\n\u001b[1;32m     99\u001b[0m   \u001b[0;34m\"\"\"Mount your Google Drive at the specified mountpoint path.\"\"\"\u001b[0m\u001b[0;34m\u001b[0m\u001b[0;34m\u001b[0m\u001b[0m\n\u001b[0;32m--> 100\u001b[0;31m   return _mount(\n\u001b[0m\u001b[1;32m    101\u001b[0m       \u001b[0mmountpoint\u001b[0m\u001b[0;34m,\u001b[0m\u001b[0;34m\u001b[0m\u001b[0;34m\u001b[0m\u001b[0m\n\u001b[1;32m    102\u001b[0m       \u001b[0mforce_remount\u001b[0m\u001b[0;34m=\u001b[0m\u001b[0mforce_remount\u001b[0m\u001b[0;34m,\u001b[0m\u001b[0;34m\u001b[0m\u001b[0;34m\u001b[0m\u001b[0m\n",
            "\u001b[0;32m/usr/local/lib/python3.11/dist-packages/google/colab/drive.py\u001b[0m in \u001b[0;36m_mount\u001b[0;34m(mountpoint, force_remount, timeout_ms, ephemeral, readonly)\u001b[0m\n\u001b[1;32m    135\u001b[0m   )\n\u001b[1;32m    136\u001b[0m   \u001b[0;32mif\u001b[0m \u001b[0mephemeral\u001b[0m\u001b[0;34m:\u001b[0m\u001b[0;34m\u001b[0m\u001b[0;34m\u001b[0m\u001b[0m\n\u001b[0;32m--> 137\u001b[0;31m     _message.blocking_request(\n\u001b[0m\u001b[1;32m    138\u001b[0m         \u001b[0;34m'request_auth'\u001b[0m\u001b[0;34m,\u001b[0m\u001b[0;34m\u001b[0m\u001b[0;34m\u001b[0m\u001b[0m\n\u001b[1;32m    139\u001b[0m         \u001b[0mrequest\u001b[0m\u001b[0;34m=\u001b[0m\u001b[0;34m{\u001b[0m\u001b[0;34m'authType'\u001b[0m\u001b[0;34m:\u001b[0m \u001b[0;34m'dfs_ephemeral'\u001b[0m\u001b[0;34m}\u001b[0m\u001b[0;34m,\u001b[0m\u001b[0;34m\u001b[0m\u001b[0;34m\u001b[0m\u001b[0m\n",
            "\u001b[0;32m/usr/local/lib/python3.11/dist-packages/google/colab/_message.py\u001b[0m in \u001b[0;36mblocking_request\u001b[0;34m(request_type, request, timeout_sec, parent)\u001b[0m\n\u001b[1;32m    174\u001b[0m       \u001b[0mrequest_type\u001b[0m\u001b[0;34m,\u001b[0m \u001b[0mrequest\u001b[0m\u001b[0;34m,\u001b[0m \u001b[0mparent\u001b[0m\u001b[0;34m=\u001b[0m\u001b[0mparent\u001b[0m\u001b[0;34m,\u001b[0m \u001b[0mexpect_reply\u001b[0m\u001b[0;34m=\u001b[0m\u001b[0;32mTrue\u001b[0m\u001b[0;34m\u001b[0m\u001b[0;34m\u001b[0m\u001b[0m\n\u001b[1;32m    175\u001b[0m   )\n\u001b[0;32m--> 176\u001b[0;31m   \u001b[0;32mreturn\u001b[0m \u001b[0mread_reply_from_input\u001b[0m\u001b[0;34m(\u001b[0m\u001b[0mrequest_id\u001b[0m\u001b[0;34m,\u001b[0m \u001b[0mtimeout_sec\u001b[0m\u001b[0;34m)\u001b[0m\u001b[0;34m\u001b[0m\u001b[0;34m\u001b[0m\u001b[0m\n\u001b[0m",
            "\u001b[0;32m/usr/local/lib/python3.11/dist-packages/google/colab/_message.py\u001b[0m in \u001b[0;36mread_reply_from_input\u001b[0;34m(message_id, timeout_sec)\u001b[0m\n\u001b[1;32m    101\u001b[0m     ):\n\u001b[1;32m    102\u001b[0m       \u001b[0;32mif\u001b[0m \u001b[0;34m'error'\u001b[0m \u001b[0;32min\u001b[0m \u001b[0mreply\u001b[0m\u001b[0;34m:\u001b[0m\u001b[0;34m\u001b[0m\u001b[0;34m\u001b[0m\u001b[0m\n\u001b[0;32m--> 103\u001b[0;31m         \u001b[0;32mraise\u001b[0m \u001b[0mMessageError\u001b[0m\u001b[0;34m(\u001b[0m\u001b[0mreply\u001b[0m\u001b[0;34m[\u001b[0m\u001b[0;34m'error'\u001b[0m\u001b[0;34m]\u001b[0m\u001b[0;34m)\u001b[0m\u001b[0;34m\u001b[0m\u001b[0;34m\u001b[0m\u001b[0m\n\u001b[0m\u001b[1;32m    104\u001b[0m       \u001b[0;32mreturn\u001b[0m \u001b[0mreply\u001b[0m\u001b[0;34m.\u001b[0m\u001b[0mget\u001b[0m\u001b[0;34m(\u001b[0m\u001b[0;34m'data'\u001b[0m\u001b[0;34m,\u001b[0m \u001b[0;32mNone\u001b[0m\u001b[0;34m)\u001b[0m\u001b[0;34m\u001b[0m\u001b[0;34m\u001b[0m\u001b[0m\n\u001b[1;32m    105\u001b[0m \u001b[0;34m\u001b[0m\u001b[0m\n",
            "\u001b[0;31mMessageError\u001b[0m: Error: credential propagation was unsuccessful"
          ]
        }
      ]
    },
    {
      "cell_type": "code",
      "execution_count": null,
      "metadata": {
        "id": "U_-Gi4M60ASG"
      },
      "outputs": [],
      "source": [
        "data"
      ]
    },
    {
      "cell_type": "markdown",
      "metadata": {
        "id": "dZ35ZXaf0ASI"
      },
      "source": [
        "#### Getting some basic information about the dataset"
      ]
    },
    {
      "cell_type": "code",
      "execution_count": null,
      "metadata": {
        "scrolled": true,
        "id": "KZvoj_xf0ASJ"
      },
      "outputs": [],
      "source": [
        "data.head()                                     # to show top-5 records of the dataset"
      ]
    },
    {
      "cell_type": "markdown",
      "metadata": {
        "id": "w06le9fI0ASJ"
      },
      "source": [
        "### 2. tail()"
      ]
    },
    {
      "cell_type": "code",
      "execution_count": null,
      "metadata": {
        "id": "Kkw20ZBl0ASK"
      },
      "outputs": [],
      "source": [
        "data.tail()                                      # to show bottom-5 records of dataset"
      ]
    },
    {
      "cell_type": "markdown",
      "metadata": {
        "id": "bWPv1Slc0ASK"
      },
      "source": [
        "### 3. shape"
      ]
    },
    {
      "cell_type": "code",
      "execution_count": null,
      "metadata": {
        "id": "-Pv3T93h0ASK"
      },
      "outputs": [],
      "source": [
        "data.shape                                      # to show the No. of Rows and Columns"
      ]
    },
    {
      "cell_type": "markdown",
      "metadata": {
        "id": "nKWbPWxh0ASL"
      },
      "source": [
        "### 4. size"
      ]
    },
    {
      "cell_type": "code",
      "execution_count": null,
      "metadata": {
        "id": "oZpTin6M0ASL"
      },
      "outputs": [],
      "source": [
        "data.size                                      # to show No. of total values(elements) in the dataset"
      ]
    },
    {
      "cell_type": "markdown",
      "metadata": {
        "id": "tTYTTmK90ASL"
      },
      "source": [
        "### 5. columns"
      ]
    },
    {
      "cell_type": "code",
      "execution_count": null,
      "metadata": {
        "scrolled": true,
        "id": "tPrJDvQ_0ASM"
      },
      "outputs": [],
      "source": [
        "data.columns                                   # to show each Column Name"
      ]
    },
    {
      "cell_type": "markdown",
      "metadata": {
        "id": "u0yNfBa80ASM"
      },
      "source": [
        "### 7. dtypes"
      ]
    },
    {
      "cell_type": "code",
      "execution_count": null,
      "metadata": {
        "id": "Dy5QH-Ax0ASM"
      },
      "outputs": [],
      "source": [
        "data.dtypes                                    # to show the data-type of each column"
      ]
    },
    {
      "cell_type": "markdown",
      "metadata": {
        "id": "oafkBbea0ASN"
      },
      "source": [
        "### 8. info()"
      ]
    },
    {
      "cell_type": "code",
      "execution_count": null,
      "metadata": {
        "id": "7Kh9XI740ASN"
      },
      "outputs": [],
      "source": [
        "data.info()                                   # To show indexes, columns, data-types of each column, memory at once"
      ]
    },
    {
      "cell_type": "markdown",
      "metadata": {
        "id": "vE50ExUa0ASN"
      },
      "source": [
        "----"
      ]
    },
    {
      "cell_type": "markdown",
      "metadata": {
        "id": "qcn8kbzy0ASO"
      },
      "source": [
        "### Task.1. Is there any Duplicate Record in this dataset ? If yes, then remove the duplicate records."
      ]
    },
    {
      "cell_type": "markdown",
      "metadata": {
        "id": "MfefZEMF0ASO"
      },
      "source": [
        "### duplicate()"
      ]
    },
    {
      "cell_type": "code",
      "execution_count": null,
      "metadata": {
        "id": "KB_YEUCB0ASO"
      },
      "outputs": [],
      "source": [
        "data.head()"
      ]
    },
    {
      "cell_type": "code",
      "execution_count": null,
      "metadata": {
        "id": "qgQn_Poi0ASO"
      },
      "outputs": [],
      "source": [
        "data.shape"
      ]
    },
    {
      "cell_type": "code",
      "execution_count": null,
      "metadata": {
        "id": "FlhFTljs0ASP"
      },
      "outputs": [],
      "source": [
        "data[data.duplicated()]                                         # To check row wise and detect the Duplicate rows"
      ]
    },
    {
      "cell_type": "code",
      "execution_count": null,
      "metadata": {
        "id": "s4QQlu-90ASP"
      },
      "outputs": [],
      "source": [
        "data.drop_duplicates(inplace = True)                                # To Remove the Duplicate rows permanently"
      ]
    },
    {
      "cell_type": "code",
      "execution_count": null,
      "metadata": {
        "id": "oIE0JJ8o0ASQ"
      },
      "outputs": [],
      "source": [
        "data[data.duplicated()]"
      ]
    },
    {
      "cell_type": "code",
      "execution_count": null,
      "metadata": {
        "id": "D8wgy1tw0ASQ"
      },
      "outputs": [],
      "source": [
        "data.shape"
      ]
    },
    {
      "cell_type": "markdown",
      "metadata": {
        "id": "8R5K7WUB0ASR"
      },
      "source": [
        "----"
      ]
    },
    {
      "cell_type": "markdown",
      "metadata": {
        "id": "HNZokH8t0ASR"
      },
      "source": [
        "### Task.2. Is there any Null Value present in any column ? Show with Heat-map."
      ]
    },
    {
      "cell_type": "markdown",
      "metadata": {
        "id": "TRsU2uRo0ASS"
      },
      "source": [
        "### isnull()"
      ]
    },
    {
      "cell_type": "code",
      "execution_count": null,
      "metadata": {
        "id": "9Y_mLzIU0ASS"
      },
      "outputs": [],
      "source": [
        "data.head()"
      ]
    },
    {
      "cell_type": "code",
      "execution_count": null,
      "metadata": {
        "id": "wwScg0g60ASS"
      },
      "outputs": [],
      "source": [
        "data.isnull()                                               # To show where Null value is present"
      ]
    },
    {
      "cell_type": "code",
      "execution_count": null,
      "metadata": {
        "id": "Nl2CSrR30ASS"
      },
      "outputs": [],
      "source": [
        "data.isnull().sum()                                               # To show the count of Null values in each column"
      ]
    },
    {
      "cell_type": "markdown",
      "metadata": {
        "id": "CMk2Raf80AST"
      },
      "source": [
        "### seaborn library (heat-map)"
      ]
    },
    {
      "cell_type": "code",
      "execution_count": null,
      "metadata": {
        "id": "DIbFdwkr0ASf"
      },
      "outputs": [],
      "source": [
        "import seaborn as sns                                               # To import Seaborn library"
      ]
    },
    {
      "cell_type": "code",
      "execution_count": null,
      "metadata": {
        "scrolled": false,
        "id": "YLBPAI1-0ASg"
      },
      "outputs": [],
      "source": [
        "sns.heatmap(data.isnull())                                               # Using heat-map to show null values count"
      ]
    },
    {
      "cell_type": "markdown",
      "metadata": {
        "id": "oxR3XXnN0ASg"
      },
      "source": [
        "----"
      ]
    },
    {
      "cell_type": "markdown",
      "metadata": {
        "id": "cAC-u0260ASg"
      },
      "source": [
        "----"
      ]
    },
    {
      "cell_type": "markdown",
      "metadata": {
        "id": "53Us8FIm0ASh"
      },
      "source": [
        "### Q.1. For 'House of Cards', what is the Show Id and Who is the Director of this show ?"
      ]
    },
    {
      "cell_type": "markdown",
      "metadata": {
        "id": "Qcj955dk0ASh"
      },
      "source": [
        "### isin()"
      ]
    },
    {
      "cell_type": "code",
      "execution_count": null,
      "metadata": {
        "id": "byx7c8z50ASh"
      },
      "outputs": [],
      "source": [
        "data.head()"
      ]
    },
    {
      "cell_type": "code",
      "execution_count": null,
      "metadata": {
        "scrolled": false,
        "id": "d1aPlbE20ASh"
      },
      "outputs": [],
      "source": [
        "data[data['Title'].isin(['House of Cards'])]       #  To show all records of a particular item in any column"
      ]
    },
    {
      "cell_type": "markdown",
      "metadata": {
        "id": "kIHIYfdB0ASi"
      },
      "source": [
        "### str.contains()"
      ]
    },
    {
      "cell_type": "code",
      "execution_count": null,
      "metadata": {
        "scrolled": false,
        "id": "nAg1LB1j0ASi"
      },
      "outputs": [],
      "source": [
        "data[data['Title'].str.contains('House of Cards')]          #  To show all records of a particular string in any column"
      ]
    },
    {
      "cell_type": "markdown",
      "metadata": {
        "id": "OXs1iGRx0ASi"
      },
      "source": [
        "----"
      ]
    },
    {
      "cell_type": "markdown",
      "metadata": {
        "id": "uVuufMuE0ASi"
      },
      "source": [
        "### Q.2. In which year highest number of the TV Shows & Movies were released ? Show with Bar Graph."
      ]
    },
    {
      "cell_type": "markdown",
      "metadata": {
        "id": "Kb4m4sQP0ASi"
      },
      "source": [
        "### dtypes"
      ]
    },
    {
      "cell_type": "code",
      "execution_count": null,
      "metadata": {
        "scrolled": true,
        "id": "1nS_mQ4u0ASj"
      },
      "outputs": [],
      "source": [
        "data.dtypes"
      ]
    },
    {
      "cell_type": "markdown",
      "metadata": {
        "id": "bCJ2Jly20ASj"
      },
      "source": [
        "### to_datetime"
      ]
    },
    {
      "cell_type": "code",
      "execution_count": null,
      "metadata": {
        "id": "QrVMH--M0ASk"
      },
      "outputs": [],
      "source": [
        "data['Date_N'] = pd.to_datetime(data['Release_Date'])"
      ]
    },
    {
      "cell_type": "code",
      "execution_count": null,
      "metadata": {
        "id": "HVFnqppg0ASk"
      },
      "outputs": [],
      "source": [
        "data.head()"
      ]
    },
    {
      "cell_type": "code",
      "execution_count": null,
      "metadata": {
        "id": "6oROdQY_0ASk"
      },
      "outputs": [],
      "source": [
        "data.dtypes"
      ]
    },
    {
      "cell_type": "code",
      "execution_count": null,
      "metadata": {
        "id": "RMy_jkEo0ASl"
      },
      "outputs": [],
      "source": []
    },
    {
      "cell_type": "markdown",
      "metadata": {
        "id": "0QQaELgv0ASl"
      },
      "source": [
        "### dt.year.value_counts()"
      ]
    },
    {
      "cell_type": "code",
      "execution_count": null,
      "metadata": {
        "id": "e4srSUrs0ASl"
      },
      "outputs": [],
      "source": [
        "data['Date_N'].dt.year.value_counts()                # It counts the occurrence of all individual Years in Date column."
      ]
    },
    {
      "cell_type": "markdown",
      "metadata": {
        "id": "2CT2Cavn0ASm"
      },
      "source": [
        "### Bar Graph"
      ]
    },
    {
      "cell_type": "code",
      "execution_count": null,
      "metadata": {
        "scrolled": true,
        "id": "AFxWfyXU0ASm"
      },
      "outputs": [],
      "source": [
        "data['Date_N'].dt.year.value_counts().plot(kind='bar')"
      ]
    },
    {
      "cell_type": "markdown",
      "metadata": {
        "id": "jrdA4omT0ASm"
      },
      "source": [
        "----"
      ]
    },
    {
      "cell_type": "markdown",
      "metadata": {
        "id": "8kCmbJ4I0ASm"
      },
      "source": [
        "### Q.3. How many Movies & TV Shows are in the dataset ? Show with Bar Graph."
      ]
    },
    {
      "cell_type": "markdown",
      "metadata": {
        "id": "1JkYfuj20ASm"
      },
      "source": [
        "### groupby()"
      ]
    },
    {
      "cell_type": "code",
      "execution_count": null,
      "metadata": {
        "id": "L69OICtE0ASn"
      },
      "outputs": [],
      "source": [
        "data.head(2)"
      ]
    },
    {
      "cell_type": "code",
      "execution_count": null,
      "metadata": {
        "id": "NW3itj4C0ASn"
      },
      "outputs": [],
      "source": [
        "data.groupby('Category').Category.count()                 # To group all unique items of a column and show their count"
      ]
    },
    {
      "cell_type": "markdown",
      "metadata": {
        "id": "yuDSOg_x0ASn"
      },
      "source": [
        "### countplot()"
      ]
    },
    {
      "cell_type": "code",
      "execution_count": null,
      "metadata": {
        "id": "VYkl0KR50ASn"
      },
      "outputs": [],
      "source": [
        "sns.countplot(data['Category'])        # To show the count of all unique values of any column in the form of bar graph"
      ]
    },
    {
      "cell_type": "markdown",
      "metadata": {
        "id": "JygZfJd20ASo"
      },
      "source": [
        "----"
      ]
    },
    {
      "cell_type": "markdown",
      "metadata": {
        "id": "b3yLXi2Q0ASo"
      },
      "source": [
        "### Q.4. Show all the Movies that were released in year 2000."
      ]
    },
    {
      "cell_type": "markdown",
      "metadata": {
        "id": "zrFXvzC60ASo"
      },
      "source": [
        "### Creating new column"
      ]
    },
    {
      "cell_type": "code",
      "execution_count": null,
      "metadata": {
        "scrolled": true,
        "id": "LyUOD_rN0ASp"
      },
      "outputs": [],
      "source": [
        "# data.head()\n",
        "data.head(2)"
      ]
    },
    {
      "cell_type": "code",
      "execution_count": null,
      "metadata": {
        "id": "SxxfwQoz0ASp"
      },
      "outputs": [],
      "source": [
        "# data['Year'] = data['Date_N'].dt.year           # to create new Year column ; it will consider only year\n",
        "\n",
        "data['Year'] = data['Date_N'].dt.year"
      ]
    },
    {
      "cell_type": "code",
      "execution_count": null,
      "metadata": {
        "id": "U5gqvRtD0ASp"
      },
      "outputs": [],
      "source": [
        "# data.head(2)\n",
        "\n",
        "data.head(2)"
      ]
    },
    {
      "cell_type": "markdown",
      "metadata": {
        "id": "14Z3qw1-0ASp"
      },
      "source": [
        "### Filtering"
      ]
    },
    {
      "cell_type": "code",
      "execution_count": null,
      "metadata": {
        "id": "qySizs1I0ASq"
      },
      "outputs": [],
      "source": [
        "# data[ (data['Category']=='Movie') & (data['Year']==2020) ]\n",
        "\n",
        "data[ (data['Category'] == 'Movie') & (data['Year']==2000) ]"
      ]
    },
    {
      "cell_type": "code",
      "execution_count": null,
      "metadata": {
        "id": "A8dbaSgV0ASq"
      },
      "outputs": [],
      "source": [
        "data[ (data['Category'] == 'Movie') & (data['Year']==2020) ]"
      ]
    },
    {
      "cell_type": "markdown",
      "metadata": {
        "id": "n6liNv2e0ASq"
      },
      "source": [
        "----"
      ]
    },
    {
      "cell_type": "markdown",
      "metadata": {
        "id": "KESI5z6v0ASq"
      },
      "source": [
        "### Q.5. Show only the Titles of all TV Shows that were released in India only."
      ]
    },
    {
      "cell_type": "markdown",
      "metadata": {
        "id": "LuidQvd-0ASr"
      },
      "source": [
        "### Filtering"
      ]
    },
    {
      "cell_type": "code",
      "execution_count": null,
      "metadata": {
        "id": "h1w9IlbJ0ASr"
      },
      "outputs": [],
      "source": [
        "# data.head(2)\n",
        "\n",
        "data.head(2)"
      ]
    },
    {
      "cell_type": "code",
      "execution_count": null,
      "metadata": {
        "id": "x1bpBtyI0ASr"
      },
      "outputs": [],
      "source": [
        "# data [ (data['Category'] == 'TV Show') & (data['Country'] == 'India') ] ['Title']\n",
        "\n",
        "data[ (data['Category']=='TV Show') & (data['Country']=='India') ] ['Title']"
      ]
    },
    {
      "cell_type": "markdown",
      "metadata": {
        "id": "ZNt6B6eo0ASs"
      },
      "source": [
        "----"
      ]
    },
    {
      "cell_type": "markdown",
      "metadata": {
        "id": "RVXrWbK10ASs"
      },
      "source": [
        "### Q.6. Show Top 10 Directors, who gave the highest number of TV Shows & Movies to Netflix ?"
      ]
    },
    {
      "cell_type": "markdown",
      "metadata": {
        "id": "qHh4wY900ASs"
      },
      "source": [
        "### value_counts()"
      ]
    },
    {
      "cell_type": "code",
      "execution_count": null,
      "metadata": {
        "id": "gCz6u9GV0ASs"
      },
      "outputs": [],
      "source": [
        "# data['Director'].value_counts().head(10)\n",
        "\n",
        "data.head(2)"
      ]
    },
    {
      "cell_type": "code",
      "execution_count": null,
      "metadata": {
        "id": "FW1n3CWz0ASt"
      },
      "outputs": [],
      "source": [
        "data['Director'].value_counts().head(10)"
      ]
    },
    {
      "cell_type": "markdown",
      "metadata": {
        "id": "yWEwoYwt0ASt"
      },
      "source": [
        "----"
      ]
    },
    {
      "cell_type": "markdown",
      "metadata": {
        "id": "3-TnnDR20ASt"
      },
      "source": [
        "#### Q.7. Show all the Records, where \"Category is Movie and Type is Comedies\" or \"Country is United Kingdom\"."
      ]
    },
    {
      "cell_type": "markdown",
      "metadata": {
        "id": "EY81yoNC0ASt"
      },
      "source": [
        "### Filtering ( And, Or Operators )"
      ]
    },
    {
      "cell_type": "code",
      "execution_count": null,
      "metadata": {
        "id": "B53LKpRx0ASu"
      },
      "outputs": [],
      "source": [
        "# data[(data['Category']=='Movie') & (data['Type']=='Comedies') ]\n",
        "\n",
        "data.head(2)"
      ]
    },
    {
      "cell_type": "code",
      "execution_count": null,
      "metadata": {
        "id": "TS6QeTaP0ASu"
      },
      "outputs": [],
      "source": [
        "data[ (data['Category']=='Movie') & (data['Type']=='Comedies') ]"
      ]
    },
    {
      "cell_type": "code",
      "execution_count": null,
      "metadata": {
        "id": "cgk2IXkt0ASu"
      },
      "outputs": [],
      "source": [
        "# data[(data['Category']=='Movie') & (data['Type']=='Comedies') | (data['Country']=='United Kingdom')]\n",
        "\n",
        "data[ (data['Category']=='Movie') & (data['Type']=='Comedies') | (data['Country']=='United Kingdom')]"
      ]
    },
    {
      "cell_type": "markdown",
      "metadata": {
        "id": "fWgmGt560ASu"
      },
      "source": [
        "----"
      ]
    },
    {
      "cell_type": "markdown",
      "metadata": {
        "id": "5CNw6jfo0ASv"
      },
      "source": [
        "### Q.8. In how many movies/shows, Tom Cruise was cast ?"
      ]
    },
    {
      "cell_type": "code",
      "execution_count": null,
      "metadata": {
        "id": "dYU1c9w90ASv"
      },
      "outputs": [],
      "source": [
        "# data.head()\n",
        "\n",
        "data.head(2)"
      ]
    },
    {
      "cell_type": "markdown",
      "metadata": {
        "id": "WdH_dpK80ASv"
      },
      "source": [
        "### filtering"
      ]
    },
    {
      "cell_type": "code",
      "execution_count": null,
      "metadata": {
        "scrolled": false,
        "id": "ErF-IxJP0ASv"
      },
      "outputs": [],
      "source": [
        "# data[data['Cast']=='Tom Cruise']\n",
        "\n",
        "data[data['Cast'] == 'Tom Cruise']"
      ]
    },
    {
      "cell_type": "markdown",
      "metadata": {
        "id": "Pfolpk0R0ASw"
      },
      "source": [
        "### str.contains()"
      ]
    },
    {
      "cell_type": "code",
      "execution_count": null,
      "metadata": {
        "id": "JPlQnOTI0ASw"
      },
      "outputs": [],
      "source": [
        "# data[data['Cast'].str.contains('Tom Cruise')]\n",
        "\n",
        "data[data['Cast'].str.contains('Tom Cruise')]"
      ]
    },
    {
      "cell_type": "markdown",
      "metadata": {
        "id": "7wgbeguF0ASw"
      },
      "source": [
        "### Creating new data-frame"
      ]
    },
    {
      "cell_type": "code",
      "execution_count": null,
      "metadata": {
        "id": "FiB__FHF0ASx"
      },
      "outputs": [],
      "source": [
        "# data_new = data.dropna()                       # It drops the rows that contains all or any missing values.\n",
        "\n",
        "data_new = data.dropna()"
      ]
    },
    {
      "cell_type": "code",
      "execution_count": null,
      "metadata": {
        "id": "FO90jmBG0ASx"
      },
      "outputs": [],
      "source": [
        "# data_new.head(2)\n",
        "\n",
        "data_new.head(2)"
      ]
    },
    {
      "cell_type": "code",
      "execution_count": null,
      "metadata": {
        "scrolled": true,
        "id": "W0r1qyZx0ASx"
      },
      "outputs": [],
      "source": [
        "# data_new[data_new['Cast'].str.contains('Tom Cruise')]\n",
        "\n",
        "data_new[data_new['Cast'].str.contains('Tom Cruise')]"
      ]
    },
    {
      "cell_type": "markdown",
      "metadata": {
        "id": "oWAs1aSX0ASx"
      },
      "source": [
        "----"
      ]
    },
    {
      "cell_type": "markdown",
      "metadata": {
        "id": "glbGLS610ASy"
      },
      "source": [
        "### Q.9. What are the different Ratings defined by Netflix ?"
      ]
    },
    {
      "cell_type": "markdown",
      "metadata": {
        "id": "g7PHdGD90ASy"
      },
      "source": [
        "### nunique()"
      ]
    },
    {
      "cell_type": "code",
      "execution_count": null,
      "metadata": {
        "id": "EpbsstCH0ASy"
      },
      "outputs": [],
      "source": [
        "# data.Rating.nunique()\n",
        "\n",
        "data.head(2)"
      ]
    },
    {
      "cell_type": "code",
      "execution_count": null,
      "metadata": {
        "id": "d-N2HnGf0ASy"
      },
      "outputs": [],
      "source": [
        "data['Rating'].nunique()"
      ]
    },
    {
      "cell_type": "markdown",
      "metadata": {
        "id": "EDnc1V2A0ASz"
      },
      "source": [
        "### unique()"
      ]
    },
    {
      "cell_type": "code",
      "execution_count": null,
      "metadata": {
        "id": "N_3pYLp_0ASz"
      },
      "outputs": [],
      "source": [
        "# data.Rating.unique()\n",
        "\n",
        "data['Rating'].unique()"
      ]
    },
    {
      "cell_type": "markdown",
      "metadata": {
        "id": "9FSgp70r0ASz"
      },
      "source": [
        "#### Q.9.1. How many Movies got the 'TV-14' rating, in Canada ?"
      ]
    },
    {
      "cell_type": "code",
      "execution_count": null,
      "metadata": {
        "id": "Ew6qIhlq0ASz"
      },
      "outputs": [],
      "source": [
        "data.head(2)"
      ]
    },
    {
      "cell_type": "code",
      "execution_count": null,
      "metadata": {
        "id": "tuS0aiqK0AS0"
      },
      "outputs": [],
      "source": [
        "# data[(data['Category']=='Movie') & (data['Rating'] == 'TV-14')].shape\n",
        "\n",
        "data[(data['Category']=='Movie') & (data['Rating']=='TV-14')].shape"
      ]
    },
    {
      "cell_type": "code",
      "execution_count": null,
      "metadata": {
        "id": "4BlSC9w20AS0"
      },
      "outputs": [],
      "source": [
        "# data[(data['Category']=='Movie') & (data['Rating'] == 'TV-14') & (data['Country']=='Canada')].shape\n",
        "\n",
        "data[(data['Category']=='Movie') & (data['Rating']=='TV-14') & (data['Country']=='Canada')].shape"
      ]
    },
    {
      "cell_type": "markdown",
      "metadata": {
        "id": "54IPA6-F0AS0"
      },
      "source": [
        "#### Q.9.2. How many TV Show got the 'R' rating, after year 2018 ?"
      ]
    },
    {
      "cell_type": "code",
      "execution_count": null,
      "metadata": {
        "id": "RAzm8kht0AS0"
      },
      "outputs": [],
      "source": [
        "# data[(data['Category']=='TV Show') & (data['Rating'] == 'R')]\n",
        "\n",
        "data.head(2)"
      ]
    },
    {
      "cell_type": "code",
      "execution_count": null,
      "metadata": {
        "id": "4-ijgNfI0AS1"
      },
      "outputs": [],
      "source": [
        "data[(data['Category']=='TV Show') & (data['Rating']=='R')]"
      ]
    },
    {
      "cell_type": "code",
      "execution_count": null,
      "metadata": {
        "scrolled": true,
        "id": "9HUfblwi0AS1"
      },
      "outputs": [],
      "source": [
        "# data[(data['Category']=='TV Show') & (data['Rating'] == 'R') & (data['Year'] > 2018)]\n",
        "\n",
        "data[(data['Category']=='TV Show') & (data['Rating']=='R') & (data['Year'] > 2018)]"
      ]
    },
    {
      "cell_type": "markdown",
      "metadata": {
        "id": "j2bkbUxg0AS1"
      },
      "source": [
        "----"
      ]
    },
    {
      "cell_type": "markdown",
      "metadata": {
        "id": "QfXSEuFL0AS2"
      },
      "source": [
        "### Q.10. What is the maximum duration of a Movie/Show on Netflix ?"
      ]
    },
    {
      "cell_type": "code",
      "execution_count": null,
      "metadata": {
        "id": "kWLeWSBS0AS2"
      },
      "outputs": [],
      "source": [
        "# data.head(2)\n",
        "\n",
        "data.head(2)"
      ]
    },
    {
      "cell_type": "code",
      "execution_count": null,
      "metadata": {
        "id": "6stBVkz40AS2"
      },
      "outputs": [],
      "source": [
        "# data['Duration'].unique()\n",
        "\n",
        "data.Duration.unique()"
      ]
    },
    {
      "cell_type": "code",
      "execution_count": null,
      "metadata": {
        "id": "djSG6Wtn0AS2"
      },
      "outputs": [],
      "source": [
        "# data.Duration.dtypes\n",
        "\n",
        "data.Duration.dtypes"
      ]
    },
    {
      "cell_type": "markdown",
      "metadata": {
        "id": "DExym6Bn0AS3"
      },
      "source": [
        "### str.split()"
      ]
    },
    {
      "cell_type": "code",
      "execution_count": null,
      "metadata": {
        "id": "T7bk2S280AS3"
      },
      "outputs": [],
      "source": [
        "data.head(2)"
      ]
    },
    {
      "cell_type": "code",
      "execution_count": null,
      "metadata": {
        "id": "yehn9qe40AS3"
      },
      "outputs": [],
      "source": [
        "# data[['Minutes','Unit']] = data['Duration'].str.split(' ', expand=True)\n",
        "\n",
        "data[['Minutes', 'Unit']] = data['Duration'].str.split(' ', expand = True)"
      ]
    },
    {
      "cell_type": "code",
      "execution_count": null,
      "metadata": {
        "id": "hM0zogU00AS3"
      },
      "outputs": [],
      "source": [
        "# data.head(2)\n",
        "\n",
        "data.head(2)"
      ]
    },
    {
      "cell_type": "markdown",
      "metadata": {
        "id": "HYlhQUCU0AS4"
      },
      "source": [
        "### max()"
      ]
    },
    {
      "cell_type": "code",
      "execution_count": null,
      "metadata": {
        "id": "y5ROGmKl0AS4"
      },
      "outputs": [],
      "source": [
        "# data.Minutes.max()\n",
        "\n",
        "data['Minutes'].max()"
      ]
    },
    {
      "cell_type": "code",
      "execution_count": null,
      "metadata": {
        "id": "YGq4Ttw30AS4"
      },
      "outputs": [],
      "source": [
        "data['Minutes'].min()"
      ]
    },
    {
      "cell_type": "code",
      "execution_count": null,
      "metadata": {
        "scrolled": true,
        "id": "-RyzWVPV0AS4"
      },
      "outputs": [],
      "source": [
        "data['Minutes'].mean()"
      ]
    },
    {
      "cell_type": "code",
      "execution_count": null,
      "metadata": {
        "id": "GANv4rcv0AS5"
      },
      "outputs": [],
      "source": [
        "data.dtypes"
      ]
    },
    {
      "cell_type": "markdown",
      "metadata": {
        "id": "SRpvKXZ30AS5"
      },
      "source": [
        "----"
      ]
    },
    {
      "cell_type": "markdown",
      "metadata": {
        "id": "HnMzCLSZ0AS5"
      },
      "source": [
        "### Q.11. Which individual country has the Highest No. of TV Shows ?"
      ]
    },
    {
      "cell_type": "code",
      "execution_count": null,
      "metadata": {
        "id": "bDSjLk090AS5"
      },
      "outputs": [],
      "source": [
        "# data.head(2)\n",
        "\n",
        "data.head(2)"
      ]
    },
    {
      "cell_type": "code",
      "execution_count": null,
      "metadata": {
        "id": "MquXpzhJ0AS6"
      },
      "outputs": [],
      "source": [
        "# data_tvshow = data[data['Category'] == 'TV Show']\n",
        "\n",
        "data_tvshow = data[data['Category'] == 'TV Show']"
      ]
    },
    {
      "cell_type": "code",
      "execution_count": null,
      "metadata": {
        "id": "znfM47XA0AS6"
      },
      "outputs": [],
      "source": [
        "# data_tvshow.head(2)\n",
        "\n",
        "data_tvshow.head(2)"
      ]
    },
    {
      "cell_type": "code",
      "execution_count": null,
      "metadata": {
        "id": "Q0VH9kN30AS6"
      },
      "outputs": [],
      "source": [
        "# data_tvshow.Country.value_counts()\n",
        "\n",
        "data_tvshow.Country.value_counts()"
      ]
    },
    {
      "cell_type": "code",
      "execution_count": null,
      "metadata": {
        "id": "oTB5ZZYk0AS6"
      },
      "outputs": [],
      "source": [
        "# data_tvshow.Country.value_counts().head(1)\n",
        "\n",
        "data_tvshow.Country.value_counts().head(1)"
      ]
    },
    {
      "cell_type": "markdown",
      "metadata": {
        "id": "X1bNtZRM0AS7"
      },
      "source": [
        "----"
      ]
    },
    {
      "cell_type": "markdown",
      "metadata": {
        "id": "YDmdW-Wm0AS7"
      },
      "source": [
        "### Q.12. How can we sort the dataset by Year ?"
      ]
    },
    {
      "cell_type": "code",
      "execution_count": null,
      "metadata": {
        "id": "v2oKGO200AS7"
      },
      "outputs": [],
      "source": [
        "# data.head(2)\n",
        "\n",
        "data.head(2)"
      ]
    },
    {
      "cell_type": "code",
      "execution_count": null,
      "metadata": {
        "id": "J_2xQITS0AS7"
      },
      "outputs": [],
      "source": [
        "# data.sort_values(by='Year').head(2)\n",
        "\n",
        "data.sort_values(by = 'Year')"
      ]
    },
    {
      "cell_type": "code",
      "execution_count": null,
      "metadata": {
        "id": "BAmJqy4N0AS8"
      },
      "outputs": [],
      "source": [
        "# data.sort_values(by='Year', ascending=False).head(2)\n",
        "\n",
        "data.sort_values(by = 'Year', ascending = False).head(10)"
      ]
    },
    {
      "cell_type": "markdown",
      "metadata": {
        "id": "bam38h4A0AS8"
      },
      "source": [
        "----"
      ]
    },
    {
      "cell_type": "markdown",
      "metadata": {
        "id": "q_j3R4y_0AS8"
      },
      "source": [
        "### Q.13. Find all the instances where :"
      ]
    },
    {
      "cell_type": "markdown",
      "metadata": {
        "id": "7w1usVAR0AS8"
      },
      "source": [
        "### Category is 'Movie' and Type is 'Dramas'"
      ]
    },
    {
      "cell_type": "markdown",
      "metadata": {
        "id": "Iz7v1uHC0AS8"
      },
      "source": [
        "### or"
      ]
    },
    {
      "cell_type": "markdown",
      "metadata": {
        "id": "toTBjhP10AS9"
      },
      "source": [
        "###  Category is 'TV Show' & Type is 'Kids' TV'"
      ]
    },
    {
      "cell_type": "code",
      "execution_count": null,
      "metadata": {
        "id": "MjTxqUAX0AS9"
      },
      "outputs": [],
      "source": [
        "data.head(2)"
      ]
    },
    {
      "cell_type": "code",
      "execution_count": null,
      "metadata": {
        "id": "tdabCGux0AS9"
      },
      "outputs": [],
      "source": [
        "# data [(data['Category']=='Movie') & (data['Type']=='Dramas')].head(2)\n",
        "\n",
        "data [ (data['Category']=='Movie') & (data['Type']=='Dramas') ].head(2)"
      ]
    },
    {
      "cell_type": "code",
      "execution_count": null,
      "metadata": {
        "id": "S5HicMq80AS9"
      },
      "outputs": [],
      "source": [
        "# data[(data['Category']=='TV Show') & (data['Type']==\"Kids' TV\")].head(2)\n",
        "\n",
        "data [ (data['Category']=='TV Show') & (data['Type']== \"Kids' TV\") ]"
      ]
    },
    {
      "cell_type": "code",
      "execution_count": null,
      "metadata": {
        "id": "0Eet9Ixj0AS-"
      },
      "outputs": [],
      "source": [
        "# data [(data['Category']=='Movie') & (data['Type']=='Dramas') | (data['Category']=='TV Show') & (data['Type']==\"Kids' TV\")].head(1)\n",
        "\n",
        "data [ (data['Category']=='Movie') & (data['Type']=='Dramas') | (data['Category']=='TV Show') & (data['Type']== \"Kids' TV\") ]"
      ]
    },
    {
      "cell_type": "markdown",
      "metadata": {
        "id": "AXcpZ9Ds0AS-"
      },
      "source": [
        "----"
      ]
    }
  ],
  "metadata": {
    "kernelspec": {
      "display_name": "Python 3",
      "language": "python",
      "name": "python3"
    },
    "language_info": {
      "codemirror_mode": {
        "name": "ipython",
        "version": 3
      },
      "file_extension": ".py",
      "mimetype": "text/x-python",
      "name": "python",
      "nbconvert_exporter": "python",
      "pygments_lexer": "ipython3",
      "version": "3.8.3"
    },
    "colab": {
      "provenance": []
    }
  },
  "nbformat": 4,
  "nbformat_minor": 0
}